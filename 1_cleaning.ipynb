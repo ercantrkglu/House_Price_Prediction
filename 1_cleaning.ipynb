{
 "cells": [
  {
   "cell_type": "code",
   "execution_count": 7,
   "id": "analyzed-observation",
   "metadata": {},
   "outputs": [],
   "source": [
    "#data analysis\n",
    "import numpy as np\n",
    "import pandas as pd\n",
    "\n",
    "#visualization\n",
    "import seaborn as sns\n",
    "import matplotlib.pyplot as plt\n",
    "import missingno as msno"
   ]
  },
  {
   "cell_type": "code",
   "execution_count": 8,
   "id": "registered-hunter",
   "metadata": {},
   "outputs": [],
   "source": [
    "df = pd.read_csv(\"Home_Sale_Data.csv\",sep=\";\")"
   ]
  },
  {
   "cell_type": "markdown",
   "id": "solid-barbados",
   "metadata": {},
   "source": [
    "## __Exploration__"
   ]
  },
  {
   "cell_type": "code",
   "execution_count": 9,
   "id": "unexpected-orchestra",
   "metadata": {},
   "outputs": [
    {
     "data": {
      "text/html": [
       "<div>\n",
       "<style scoped>\n",
       "    .dataframe tbody tr th:only-of-type {\n",
       "        vertical-align: middle;\n",
       "    }\n",
       "\n",
       "    .dataframe tbody tr th {\n",
       "        vertical-align: top;\n",
       "    }\n",
       "\n",
       "    .dataframe thead th {\n",
       "        text-align: right;\n",
       "    }\n",
       "</style>\n",
       "<table border=\"1\" class=\"dataframe\">\n",
       "  <thead>\n",
       "    <tr style=\"text-align: right;\">\n",
       "      <th></th>\n",
       "      <th>District</th>\n",
       "      <th>Neighborhood</th>\n",
       "      <th>Price</th>\n",
       "      <th>Adrtisement Date</th>\n",
       "      <th>m² (Gross)</th>\n",
       "      <th>m² (Net)</th>\n",
       "      <th>Number of rooms</th>\n",
       "      <th>Building Age</th>\n",
       "      <th>Floor location</th>\n",
       "      <th>Number of floors</th>\n",
       "      <th>...</th>\n",
       "      <th>Top floor</th>\n",
       "      <th>Garage / Shop Top</th>\n",
       "      <th>Entrance floor</th>\n",
       "      <th>Floor Duplex</th>\n",
       "      <th>Private Entry</th>\n",
       "      <th>Rerse Duplex</th>\n",
       "      <th>Triplex</th>\n",
       "      <th>Ground floor</th>\n",
       "      <th>Roof Duplex</th>\n",
       "      <th>Pick Up Data Time</th>\n",
       "    </tr>\n",
       "  </thead>\n",
       "  <tbody>\n",
       "    <tr>\n",
       "      <th>0</th>\n",
       "      <td>Tuzla</td>\n",
       "      <td>Aydınlı Mh.</td>\n",
       "      <td>165.000 TL</td>\n",
       "      <td>4.01.2020</td>\n",
       "      <td>50</td>\n",
       "      <td>40.0</td>\n",
       "      <td>1+1</td>\n",
       "      <td>5-10 between</td>\n",
       "      <td>5</td>\n",
       "      <td>13</td>\n",
       "      <td>...</td>\n",
       "      <td>0</td>\n",
       "      <td>0</td>\n",
       "      <td>0</td>\n",
       "      <td>0</td>\n",
       "      <td>0</td>\n",
       "      <td>0</td>\n",
       "      <td>0</td>\n",
       "      <td>0</td>\n",
       "      <td>0</td>\n",
       "      <td>1.08.2020</td>\n",
       "    </tr>\n",
       "    <tr>\n",
       "      <th>1</th>\n",
       "      <td>Fatih</td>\n",
       "      <td>Katip Kasım Mh.</td>\n",
       "      <td>207.000 TL</td>\n",
       "      <td>6.01.2020</td>\n",
       "      <td>42</td>\n",
       "      <td>42.0</td>\n",
       "      <td>1+1</td>\n",
       "      <td>31  and more than</td>\n",
       "      <td>Ground floor</td>\n",
       "      <td>3</td>\n",
       "      <td>...</td>\n",
       "      <td>0</td>\n",
       "      <td>0</td>\n",
       "      <td>0</td>\n",
       "      <td>0</td>\n",
       "      <td>0</td>\n",
       "      <td>0</td>\n",
       "      <td>0</td>\n",
       "      <td>0</td>\n",
       "      <td>0</td>\n",
       "      <td>1.10.2020</td>\n",
       "    </tr>\n",
       "    <tr>\n",
       "      <th>2</th>\n",
       "      <td>Çekmeköy</td>\n",
       "      <td>Çatalmeşe Mh.</td>\n",
       "      <td>153.000 TL</td>\n",
       "      <td>31.12.2019</td>\n",
       "      <td>55</td>\n",
       "      <td>45.0</td>\n",
       "      <td>1+1</td>\n",
       "      <td>1</td>\n",
       "      <td>Kot 1</td>\n",
       "      <td>7</td>\n",
       "      <td>...</td>\n",
       "      <td>0</td>\n",
       "      <td>0</td>\n",
       "      <td>0</td>\n",
       "      <td>0</td>\n",
       "      <td>0</td>\n",
       "      <td>0</td>\n",
       "      <td>0</td>\n",
       "      <td>0</td>\n",
       "      <td>0</td>\n",
       "      <td>1.10.2020</td>\n",
       "    </tr>\n",
       "    <tr>\n",
       "      <th>3</th>\n",
       "      <td>Çekmeköy</td>\n",
       "      <td>Mehmet Akif Ersoy Mah.</td>\n",
       "      <td>205.000 TL</td>\n",
       "      <td>29.12.2019</td>\n",
       "      <td>62</td>\n",
       "      <td>46.0</td>\n",
       "      <td>1+1</td>\n",
       "      <td>0</td>\n",
       "      <td>High entrance</td>\n",
       "      <td>5</td>\n",
       "      <td>...</td>\n",
       "      <td>0</td>\n",
       "      <td>0</td>\n",
       "      <td>0</td>\n",
       "      <td>0</td>\n",
       "      <td>0</td>\n",
       "      <td>0</td>\n",
       "      <td>0</td>\n",
       "      <td>0</td>\n",
       "      <td>0</td>\n",
       "      <td>1.10.2020</td>\n",
       "    </tr>\n",
       "    <tr>\n",
       "      <th>4</th>\n",
       "      <td>Küçükçekmece</td>\n",
       "      <td>Halkalı Merkez Mh.</td>\n",
       "      <td>150.000 TL</td>\n",
       "      <td>1.01.2020</td>\n",
       "      <td>70</td>\n",
       "      <td>55.0</td>\n",
       "      <td>1+1</td>\n",
       "      <td>5-10 between</td>\n",
       "      <td>Garden Floor</td>\n",
       "      <td>4</td>\n",
       "      <td>...</td>\n",
       "      <td>0</td>\n",
       "      <td>0</td>\n",
       "      <td>0</td>\n",
       "      <td>0</td>\n",
       "      <td>0</td>\n",
       "      <td>0</td>\n",
       "      <td>0</td>\n",
       "      <td>0</td>\n",
       "      <td>0</td>\n",
       "      <td>1.07.2020</td>\n",
       "    </tr>\n",
       "  </tbody>\n",
       "</table>\n",
       "<p>5 rows × 179 columns</p>\n",
       "</div>"
      ],
      "text/plain": [
       "       District            Neighborhood        Price Adrtisement Date  \\\n",
       "0         Tuzla             Aydınlı Mh.   165.000 TL        4.01.2020   \n",
       "1         Fatih         Katip Kasım Mh.   207.000 TL        6.01.2020   \n",
       "2      Çekmeköy           Çatalmeşe Mh.   153.000 TL       31.12.2019   \n",
       "3      Çekmeköy  Mehmet Akif Ersoy Mah.   205.000 TL       29.12.2019   \n",
       "4  Küçükçekmece      Halkalı Merkez Mh.   150.000 TL        1.01.2020   \n",
       "\n",
       "   m² (Gross)  m² (Net) Number of rooms       Building Age Floor location  \\\n",
       "0          50      40.0             1+1       5-10 between              5   \n",
       "1          42      42.0             1+1  31  and more than   Ground floor   \n",
       "2          55      45.0             1+1                  1          Kot 1   \n",
       "3          62      46.0             1+1                  0  High entrance   \n",
       "4          70      55.0             1+1       5-10 between   Garden Floor   \n",
       "\n",
       "  Number of floors  ... Top floor Garage / Shop Top Entrance floor  \\\n",
       "0               13  ...         0                 0              0   \n",
       "1                3  ...         0                 0              0   \n",
       "2                7  ...         0                 0              0   \n",
       "3                5  ...         0                 0              0   \n",
       "4                4  ...         0                 0              0   \n",
       "\n",
       "  Floor Duplex Private Entry Rerse Duplex Triplex Ground floor  Roof Duplex  \\\n",
       "0            0             0            0       0            0            0   \n",
       "1            0             0            0       0            0            0   \n",
       "2            0             0            0       0            0            0   \n",
       "3            0             0            0       0            0            0   \n",
       "4            0             0            0       0            0            0   \n",
       "\n",
       "   Pick Up Data Time  \n",
       "0          1.08.2020  \n",
       "1          1.10.2020  \n",
       "2          1.10.2020  \n",
       "3          1.10.2020  \n",
       "4          1.07.2020  \n",
       "\n",
       "[5 rows x 179 columns]"
      ]
     },
     "execution_count": 9,
     "metadata": {},
     "output_type": "execute_result"
    }
   ],
   "source": [
    "df.head()"
   ]
  },
  {
   "cell_type": "markdown",
   "id": "encouraging-powder",
   "metadata": {},
   "source": [
    "__We change column names__"
   ]
  },
  {
   "cell_type": "code",
   "execution_count": 10,
   "id": "impressive-spank",
   "metadata": {},
   "outputs": [],
   "source": [
    "cols=list(df)"
   ]
  },
  {
   "cell_type": "code",
   "execution_count": 11,
   "id": "administrative-uncertainty",
   "metadata": {},
   "outputs": [],
   "source": [
    "for i in range(len(cols)):\n",
    "    a =cols[i].strip()\n",
    "    a = cols[i].replace(\" \",\"_\")\n",
    "    cols[i]= a"
   ]
  },
  {
   "cell_type": "code",
   "execution_count": 12,
   "id": "sustainable-europe",
   "metadata": {},
   "outputs": [],
   "source": [
    "df.columns = cols\n",
    "df.index = np.arange(1,len(df)+1)"
   ]
  },
  {
   "cell_type": "code",
   "execution_count": 13,
   "id": "considered-contract",
   "metadata": {},
   "outputs": [
    {
     "data": {
      "text/html": [
       "<div>\n",
       "<style scoped>\n",
       "    .dataframe tbody tr th:only-of-type {\n",
       "        vertical-align: middle;\n",
       "    }\n",
       "\n",
       "    .dataframe tbody tr th {\n",
       "        vertical-align: top;\n",
       "    }\n",
       "\n",
       "    .dataframe thead th {\n",
       "        text-align: right;\n",
       "    }\n",
       "</style>\n",
       "<table border=\"1\" class=\"dataframe\">\n",
       "  <thead>\n",
       "    <tr style=\"text-align: right;\">\n",
       "      <th></th>\n",
       "      <th>District</th>\n",
       "      <th>Neighborhood</th>\n",
       "      <th>Price</th>\n",
       "      <th>Adrtisement_Date</th>\n",
       "      <th>m²_(Gross)</th>\n",
       "      <th>m²_(Net)</th>\n",
       "      <th>Number_of_rooms</th>\n",
       "      <th>Building_Age</th>\n",
       "      <th>Floor_location</th>\n",
       "      <th>Number_of_floors</th>\n",
       "      <th>...</th>\n",
       "      <th>Top_floor</th>\n",
       "      <th>Garage_/_Shop_Top</th>\n",
       "      <th>Entrance_floor</th>\n",
       "      <th>Floor_Duplex</th>\n",
       "      <th>Private_Entry</th>\n",
       "      <th>Rerse_Duplex</th>\n",
       "      <th>Triplex</th>\n",
       "      <th>Ground_floor</th>\n",
       "      <th>Roof_Duplex</th>\n",
       "      <th>Pick_Up_Data_Time</th>\n",
       "    </tr>\n",
       "  </thead>\n",
       "  <tbody>\n",
       "    <tr>\n",
       "      <th>1</th>\n",
       "      <td>Tuzla</td>\n",
       "      <td>Aydınlı Mh.</td>\n",
       "      <td>165.000 TL</td>\n",
       "      <td>4.01.2020</td>\n",
       "      <td>50</td>\n",
       "      <td>40.0</td>\n",
       "      <td>1+1</td>\n",
       "      <td>5-10 between</td>\n",
       "      <td>5</td>\n",
       "      <td>13</td>\n",
       "      <td>...</td>\n",
       "      <td>0</td>\n",
       "      <td>0</td>\n",
       "      <td>0</td>\n",
       "      <td>0</td>\n",
       "      <td>0</td>\n",
       "      <td>0</td>\n",
       "      <td>0</td>\n",
       "      <td>0</td>\n",
       "      <td>0</td>\n",
       "      <td>1.08.2020</td>\n",
       "    </tr>\n",
       "    <tr>\n",
       "      <th>2</th>\n",
       "      <td>Fatih</td>\n",
       "      <td>Katip Kasım Mh.</td>\n",
       "      <td>207.000 TL</td>\n",
       "      <td>6.01.2020</td>\n",
       "      <td>42</td>\n",
       "      <td>42.0</td>\n",
       "      <td>1+1</td>\n",
       "      <td>31  and more than</td>\n",
       "      <td>Ground floor</td>\n",
       "      <td>3</td>\n",
       "      <td>...</td>\n",
       "      <td>0</td>\n",
       "      <td>0</td>\n",
       "      <td>0</td>\n",
       "      <td>0</td>\n",
       "      <td>0</td>\n",
       "      <td>0</td>\n",
       "      <td>0</td>\n",
       "      <td>0</td>\n",
       "      <td>0</td>\n",
       "      <td>1.10.2020</td>\n",
       "    </tr>\n",
       "    <tr>\n",
       "      <th>3</th>\n",
       "      <td>Çekmeköy</td>\n",
       "      <td>Çatalmeşe Mh.</td>\n",
       "      <td>153.000 TL</td>\n",
       "      <td>31.12.2019</td>\n",
       "      <td>55</td>\n",
       "      <td>45.0</td>\n",
       "      <td>1+1</td>\n",
       "      <td>1</td>\n",
       "      <td>Kot 1</td>\n",
       "      <td>7</td>\n",
       "      <td>...</td>\n",
       "      <td>0</td>\n",
       "      <td>0</td>\n",
       "      <td>0</td>\n",
       "      <td>0</td>\n",
       "      <td>0</td>\n",
       "      <td>0</td>\n",
       "      <td>0</td>\n",
       "      <td>0</td>\n",
       "      <td>0</td>\n",
       "      <td>1.10.2020</td>\n",
       "    </tr>\n",
       "    <tr>\n",
       "      <th>4</th>\n",
       "      <td>Çekmeköy</td>\n",
       "      <td>Mehmet Akif Ersoy Mah.</td>\n",
       "      <td>205.000 TL</td>\n",
       "      <td>29.12.2019</td>\n",
       "      <td>62</td>\n",
       "      <td>46.0</td>\n",
       "      <td>1+1</td>\n",
       "      <td>0</td>\n",
       "      <td>High entrance</td>\n",
       "      <td>5</td>\n",
       "      <td>...</td>\n",
       "      <td>0</td>\n",
       "      <td>0</td>\n",
       "      <td>0</td>\n",
       "      <td>0</td>\n",
       "      <td>0</td>\n",
       "      <td>0</td>\n",
       "      <td>0</td>\n",
       "      <td>0</td>\n",
       "      <td>0</td>\n",
       "      <td>1.10.2020</td>\n",
       "    </tr>\n",
       "    <tr>\n",
       "      <th>5</th>\n",
       "      <td>Küçükçekmece</td>\n",
       "      <td>Halkalı Merkez Mh.</td>\n",
       "      <td>150.000 TL</td>\n",
       "      <td>1.01.2020</td>\n",
       "      <td>70</td>\n",
       "      <td>55.0</td>\n",
       "      <td>1+1</td>\n",
       "      <td>5-10 between</td>\n",
       "      <td>Garden Floor</td>\n",
       "      <td>4</td>\n",
       "      <td>...</td>\n",
       "      <td>0</td>\n",
       "      <td>0</td>\n",
       "      <td>0</td>\n",
       "      <td>0</td>\n",
       "      <td>0</td>\n",
       "      <td>0</td>\n",
       "      <td>0</td>\n",
       "      <td>0</td>\n",
       "      <td>0</td>\n",
       "      <td>1.07.2020</td>\n",
       "    </tr>\n",
       "  </tbody>\n",
       "</table>\n",
       "<p>5 rows × 179 columns</p>\n",
       "</div>"
      ],
      "text/plain": [
       "       District            Neighborhood        Price Adrtisement_Date  \\\n",
       "1         Tuzla             Aydınlı Mh.   165.000 TL        4.01.2020   \n",
       "2         Fatih         Katip Kasım Mh.   207.000 TL        6.01.2020   \n",
       "3      Çekmeköy           Çatalmeşe Mh.   153.000 TL       31.12.2019   \n",
       "4      Çekmeköy  Mehmet Akif Ersoy Mah.   205.000 TL       29.12.2019   \n",
       "5  Küçükçekmece      Halkalı Merkez Mh.   150.000 TL        1.01.2020   \n",
       "\n",
       "   m²_(Gross)  m²_(Net) Number_of_rooms       Building_Age Floor_location  \\\n",
       "1          50      40.0             1+1       5-10 between              5   \n",
       "2          42      42.0             1+1  31  and more than   Ground floor   \n",
       "3          55      45.0             1+1                  1          Kot 1   \n",
       "4          62      46.0             1+1                  0  High entrance   \n",
       "5          70      55.0             1+1       5-10 between   Garden Floor   \n",
       "\n",
       "  Number_of_floors  ... Top_floor Garage_/_Shop_Top Entrance_floor  \\\n",
       "1               13  ...         0                 0              0   \n",
       "2                3  ...         0                 0              0   \n",
       "3                7  ...         0                 0              0   \n",
       "4                5  ...         0                 0              0   \n",
       "5                4  ...         0                 0              0   \n",
       "\n",
       "  Floor_Duplex Private_Entry Rerse_Duplex Triplex Ground_floor  Roof_Duplex  \\\n",
       "1            0             0            0       0            0            0   \n",
       "2            0             0            0       0            0            0   \n",
       "3            0             0            0       0            0            0   \n",
       "4            0             0            0       0            0            0   \n",
       "5            0             0            0       0            0            0   \n",
       "\n",
       "   Pick_Up_Data_Time  \n",
       "1          1.08.2020  \n",
       "2          1.10.2020  \n",
       "3          1.10.2020  \n",
       "4          1.10.2020  \n",
       "5          1.07.2020  \n",
       "\n",
       "[5 rows x 179 columns]"
      ]
     },
     "execution_count": 13,
     "metadata": {},
     "output_type": "execute_result"
    }
   ],
   "source": [
    "df.head()"
   ]
  },
  {
   "cell_type": "markdown",
   "id": "accredited-corrections",
   "metadata": {},
   "source": [
    "## __Data Cleaning__"
   ]
  },
  {
   "cell_type": "markdown",
   "id": "sensitive-stroke",
   "metadata": {},
   "source": [
    "__There are 34843 observations in total__"
   ]
  },
  {
   "cell_type": "code",
   "execution_count": 14,
   "id": "saved-remedy",
   "metadata": {},
   "outputs": [
    {
     "name": "stdout",
     "output_type": "stream",
     "text": [
      "<class 'pandas.core.frame.DataFrame'>\n",
      "Int64Index: 34843 entries, 1 to 34843\n",
      "Columns: 179 entries, District to Pick_Up_Data_Time\n",
      "dtypes: float64(1), int64(161), object(17)\n",
      "memory usage: 47.8+ MB\n"
     ]
    }
   ],
   "source": [
    "df.info()"
   ]
  },
  {
   "cell_type": "markdown",
   "id": "informal-terminal",
   "metadata": {},
   "source": [
    "__We change price to integer__"
   ]
  },
  {
   "cell_type": "code",
   "execution_count": 15,
   "id": "marine-pierce",
   "metadata": {},
   "outputs": [
    {
     "name": "stderr",
     "output_type": "stream",
     "text": [
      "<ipython-input-15-3cc21d695f4f>:4: SettingWithCopyWarning: \n",
      "A value is trying to be set on a copy of a slice from a DataFrame\n",
      "\n",
      "See the caveats in the documentation: https://pandas.pydata.org/pandas-docs/stable/user_guide/indexing.html#returning-a-view-versus-a-copy\n",
      "  df.Price[i] = f\n"
     ]
    }
   ],
   "source": [
    "for i in range(1,len(df.Price)+1):\n",
    "    f = df.Price[i].replace(\"TL\",\"\").replace(\".\",\"\")\n",
    "    f = f.strip()\n",
    "    df.Price[i] = f"
   ]
  },
  {
   "cell_type": "code",
   "execution_count": 16,
   "id": "express-guide",
   "metadata": {},
   "outputs": [],
   "source": [
    "df[\"Price\"] = df['Price'].astype(str).astype(int)"
   ]
  },
  {
   "cell_type": "code",
   "execution_count": 17,
   "id": "negative-worry",
   "metadata": {},
   "outputs": [
    {
     "data": {
      "text/plain": [
       "count    3.484300e+04\n",
       "mean     7.466317e+05\n",
       "std      1.429712e+06\n",
       "min      2.000000e+04\n",
       "25%      2.790000e+05\n",
       "50%      4.000000e+05\n",
       "75%      6.500000e+05\n",
       "max      4.500000e+07\n",
       "Name: Price, dtype: float64"
      ]
     },
     "execution_count": 17,
     "metadata": {},
     "output_type": "execute_result"
    }
   ],
   "source": [
    "df[\"Price\"].describe()"
   ]
  },
  {
   "cell_type": "markdown",
   "id": "narrative-enforcement",
   "metadata": {},
   "source": [
    "__We delete unnecessary columns__"
   ]
  },
  {
   "cell_type": "code",
   "execution_count": 18,
   "id": "personal-friendship",
   "metadata": {},
   "outputs": [],
   "source": [
    "df.drop(columns=[\"Neighborhood\",\"Adrtisement_Date\",\"Pick_Up_Data_Time\"],inplace=True)"
   ]
  },
  {
   "cell_type": "code",
   "execution_count": 19,
   "id": "eight-directory",
   "metadata": {},
   "outputs": [
    {
     "data": {
      "text/html": [
       "<div>\n",
       "<style scoped>\n",
       "    .dataframe tbody tr th:only-of-type {\n",
       "        vertical-align: middle;\n",
       "    }\n",
       "\n",
       "    .dataframe tbody tr th {\n",
       "        vertical-align: top;\n",
       "    }\n",
       "\n",
       "    .dataframe thead th {\n",
       "        text-align: right;\n",
       "    }\n",
       "</style>\n",
       "<table border=\"1\" class=\"dataframe\">\n",
       "  <thead>\n",
       "    <tr style=\"text-align: right;\">\n",
       "      <th></th>\n",
       "      <th>District</th>\n",
       "      <th>Number_of_rooms</th>\n",
       "      <th>Building_Age</th>\n",
       "      <th>Floor_location</th>\n",
       "      <th>Number_of_floors</th>\n",
       "      <th>Heating</th>\n",
       "      <th>Number_of_bathrooms</th>\n",
       "      <th>Balcony</th>\n",
       "      <th>Furnished</th>\n",
       "      <th>Using_status</th>\n",
       "      <th>Available_for_Loan</th>\n",
       "      <th>From_who</th>\n",
       "      <th>Swap</th>\n",
       "    </tr>\n",
       "  </thead>\n",
       "  <tbody>\n",
       "    <tr>\n",
       "      <th>1</th>\n",
       "      <td>Tuzla</td>\n",
       "      <td>1+1</td>\n",
       "      <td>5-10 between</td>\n",
       "      <td>5</td>\n",
       "      <td>13</td>\n",
       "      <td>Natural Gas (Combi)</td>\n",
       "      <td>1</td>\n",
       "      <td>Absent</td>\n",
       "      <td>Yes</td>\n",
       "      <td>Free</td>\n",
       "      <td>Yes</td>\n",
       "      <td>From owner</td>\n",
       "      <td>No</td>\n",
       "    </tr>\n",
       "    <tr>\n",
       "      <th>2</th>\n",
       "      <td>Fatih</td>\n",
       "      <td>1+1</td>\n",
       "      <td>31  and more than</td>\n",
       "      <td>Ground floor</td>\n",
       "      <td>3</td>\n",
       "      <td>Floor Heating</td>\n",
       "      <td>1</td>\n",
       "      <td>Absent</td>\n",
       "      <td>No</td>\n",
       "      <td>Free</td>\n",
       "      <td>Yes</td>\n",
       "      <td>From bank</td>\n",
       "      <td>No</td>\n",
       "    </tr>\n",
       "    <tr>\n",
       "      <th>3</th>\n",
       "      <td>Çekmeköy</td>\n",
       "      <td>1+1</td>\n",
       "      <td>1</td>\n",
       "      <td>Kot 1</td>\n",
       "      <td>7</td>\n",
       "      <td>Natural Gas (Combi)</td>\n",
       "      <td>1</td>\n",
       "      <td>Absent</td>\n",
       "      <td>No</td>\n",
       "      <td>Property owner</td>\n",
       "      <td>Yes</td>\n",
       "      <td>From owner</td>\n",
       "      <td>Yes</td>\n",
       "    </tr>\n",
       "    <tr>\n",
       "      <th>4</th>\n",
       "      <td>Çekmeköy</td>\n",
       "      <td>1+1</td>\n",
       "      <td>0</td>\n",
       "      <td>High entrance</td>\n",
       "      <td>5</td>\n",
       "      <td>Natural Gas (Combi)</td>\n",
       "      <td>1</td>\n",
       "      <td>Absent</td>\n",
       "      <td>No</td>\n",
       "      <td>Property owner</td>\n",
       "      <td>Yes</td>\n",
       "      <td>From owner</td>\n",
       "      <td>Yes</td>\n",
       "    </tr>\n",
       "    <tr>\n",
       "      <th>5</th>\n",
       "      <td>Küçükçekmece</td>\n",
       "      <td>1+1</td>\n",
       "      <td>5-10 between</td>\n",
       "      <td>Garden Floor</td>\n",
       "      <td>4</td>\n",
       "      <td>Natural Gas (Combi)</td>\n",
       "      <td>1</td>\n",
       "      <td>Absent</td>\n",
       "      <td>No</td>\n",
       "      <td>Property owner</td>\n",
       "      <td>Yes</td>\n",
       "      <td>From owner</td>\n",
       "      <td>No</td>\n",
       "    </tr>\n",
       "  </tbody>\n",
       "</table>\n",
       "</div>"
      ],
      "text/plain": [
       "       District Number_of_rooms       Building_Age Floor_location  \\\n",
       "1         Tuzla             1+1       5-10 between              5   \n",
       "2         Fatih             1+1  31  and more than   Ground floor   \n",
       "3      Çekmeköy             1+1                  1          Kot 1   \n",
       "4      Çekmeköy             1+1                  0  High entrance   \n",
       "5  Küçükçekmece             1+1       5-10 between   Garden Floor   \n",
       "\n",
       "  Number_of_floors              Heating Number_of_bathrooms Balcony Furnished  \\\n",
       "1               13  Natural Gas (Combi)                   1  Absent       Yes   \n",
       "2                3        Floor Heating                   1  Absent        No   \n",
       "3                7  Natural Gas (Combi)                   1  Absent        No   \n",
       "4                5  Natural Gas (Combi)                   1  Absent        No   \n",
       "5                4  Natural Gas (Combi)                   1  Absent        No   \n",
       "\n",
       "     Using_status Available_for_Loan    From_who Swap  \n",
       "1            Free                Yes  From owner   No  \n",
       "2            Free                Yes   From bank   No  \n",
       "3  Property owner                Yes  From owner  Yes  \n",
       "4  Property owner                Yes  From owner  Yes  \n",
       "5  Property owner                Yes  From owner   No  "
      ]
     },
     "execution_count": 19,
     "metadata": {},
     "output_type": "execute_result"
    }
   ],
   "source": [
    "df.select_dtypes(include=\"object\").head()"
   ]
  },
  {
   "cell_type": "markdown",
   "id": "small-athletics",
   "metadata": {},
   "source": [
    "__Cleaning other column names__"
   ]
  },
  {
   "cell_type": "code",
   "execution_count": 20,
   "id": "alone-battle",
   "metadata": {},
   "outputs": [],
   "source": [
    "df[\"District\"] = df[\"District\"].str.strip()\n",
    "df[\"Number_of_rooms\"] = df[\"Number_of_rooms\"].str.strip()\n",
    "df[\"Building_Age\"] = df[\"Building_Age\"].str.strip()\n",
    "df[\"Floor_location\"] = df[\"Floor_location\"].str.strip()\n",
    "df[\"Number_of_floors\"] = df[\"Number_of_floors\"].str.strip()\n",
    "df[\"Heating\"] = df[\"Heating\"].str.strip()\n",
    "df[\"Number_of_bathrooms\"] = df[\"Number_of_bathrooms\"].str.strip()\n",
    "df[\"Balcony\"] = df[\"Balcony\"].str.strip()\n",
    "df[\"Using_status\"] = df[\"Using_status\"].str.strip()\n",
    "df[\"Available_for_Loan\"] = df[\"Available_for_Loan\"].str.strip()\n",
    "df[\"From_who\"] = df[\"From_who\"].str.strip()"
   ]
  },
  {
   "cell_type": "code",
   "execution_count": 21,
   "id": "ceramic-assignment",
   "metadata": {},
   "outputs": [],
   "source": [
    "df.rename(columns={\"m²_(Net)\":\"m2_net\"},inplace=True)"
   ]
  },
  {
   "cell_type": "code",
   "execution_count": 22,
   "id": "comprehensive-essence",
   "metadata": {},
   "outputs": [],
   "source": [
    "df.rename(columns={\"m²_(Gross)\":\"m2_gross\"},inplace=True)"
   ]
  },
  {
   "cell_type": "markdown",
   "id": "consistent-asthma",
   "metadata": {},
   "source": [
    "__Organize same expression in columns__"
   ]
  },
  {
   "cell_type": "code",
   "execution_count": 23,
   "id": "precise-expense",
   "metadata": {},
   "outputs": [
    {
     "data": {
      "text/plain": [
       "2+1                 15790\n",
       "3+1                  9853\n",
       "1+1                  3172\n",
       "4+1                  2286\n",
       "4+2                  1021\n",
       "3+2                   663\n",
       "5+1                   600\n",
       "5+2                   422\n",
       "2+2                   224\n",
       "Studio (1+0)          170\n",
       "3.5+1                 117\n",
       "6+2                   112\n",
       "6+1                    88\n",
       "1.5+1                  72\n",
       "2.5+1                  60\n",
       "4.5+1                  55\n",
       "4+3                    38\n",
       "7+1                    22\n",
       "2+0                    20\n",
       "7+2                    14\n",
       "5+3                     7\n",
       "4+4                     7\n",
       "6+3                     6\n",
       "10 and more than        5\n",
       "8+2                     4\n",
       "7+3                     4\n",
       "8+1                     4\n",
       "8+4                     2\n",
       "5+4                     2\n",
       "10+1                    1\n",
       "9+2                     1\n",
       "8+3                     1\n",
       "Name: Number_of_rooms, dtype: int64"
      ]
     },
     "execution_count": 23,
     "metadata": {},
     "output_type": "execute_result"
    }
   ],
   "source": [
    "df.Number_of_rooms.value_counts()"
   ]
  },
  {
   "cell_type": "code",
   "execution_count": 24,
   "id": "respiratory-debate",
   "metadata": {},
   "outputs": [],
   "source": [
    "df.loc[df.Number_of_rooms==\"10 and more than\",\"Number_of_rooms\"] = \"10+\"\n",
    "df.loc[df.Number_of_rooms==\"8+2\",\"Number_of_rooms\"] = \"10+\"\n",
    "df.loc[df.Number_of_rooms==\"7+3\",\"Number_of_rooms\"] = \"10+\"\n",
    "df.loc[df.Number_of_rooms==\"8+4\",\"Number_of_rooms\"] = \"10+\"\n",
    "df.loc[df.Number_of_rooms==\"8+3\",\"Number_of_rooms\"] = \"10+\"\n",
    "df.loc[df.Number_of_rooms==\"10+1\",\"Number_of_rooms\"] = \"10+\"\n",
    "df.loc[df.Number_of_rooms==\"9+2\",\"Number_of_rooms\"] = \"10+\""
   ]
  },
  {
   "cell_type": "markdown",
   "id": "cooperative-projector",
   "metadata": {},
   "source": [
    "### __Values in Building Age Column__"
   ]
  },
  {
   "cell_type": "code",
   "execution_count": 25,
   "id": "fabulous-simon",
   "metadata": {},
   "outputs": [
    {
     "data": {
      "text/plain": [
       "0                    10245\n",
       "5-10 between          5488\n",
       "4                     2594\n",
       "21-25 between         2575\n",
       "16-20 between         2438\n",
       "26-30 between         2187\n",
       "1                     2123\n",
       "31  and more than     1972\n",
       "11-15 between         1807\n",
       "2                     1755\n",
       "3                     1659\n",
       "Name: Building_Age, dtype: int64"
      ]
     },
     "execution_count": 25,
     "metadata": {},
     "output_type": "execute_result"
    }
   ],
   "source": [
    "df.Building_Age.value_counts()"
   ]
  },
  {
   "cell_type": "markdown",
   "id": "divided-football",
   "metadata": {},
   "source": [
    "### __Values in Floor Location Column__"
   ]
  },
  {
   "cell_type": "code",
   "execution_count": 26,
   "id": "excited-origin",
   "metadata": {},
   "outputs": [
    {
     "data": {
      "text/plain": [
       "3                    4956\n",
       "2                    4859\n",
       "1                    4217\n",
       "4                    4167\n",
       "Garden Floor         2776\n",
       "High entrance        2708\n",
       "5                    2492\n",
       "Entrance floor       1258\n",
       "6                    1030\n",
       "7                     769\n",
       "8                     557\n",
       "Kot 1                 515\n",
       "9                     465\n",
       "10                    443\n",
       "Penthouse             396\n",
       "Kot 2                 335\n",
       "Ground floor          322\n",
       "11                    316\n",
       "12                    285\n",
       "Kot 3                 280\n",
       "Basement              256\n",
       "Kot 4                 232\n",
       "13                    199\n",
       "14                    167\n",
       "15                    132\n",
       "30  and more than      87\n",
       "16                     82\n",
       "18                     79\n",
       "17                     69\n",
       "Villa type             64\n",
       "20                     55\n",
       "21                     39\n",
       "Private                39\n",
       "22                     36\n",
       "19                     34\n",
       "25                     27\n",
       "23                     26\n",
       "24                     25\n",
       "26                     17\n",
       "27                     12\n",
       "29                     10\n",
       "28                     10\n",
       "Name: Floor_location, dtype: int64"
      ]
     },
     "execution_count": 26,
     "metadata": {},
     "output_type": "execute_result"
    }
   ],
   "source": [
    "df.Floor_location.value_counts()"
   ]
  },
  {
   "cell_type": "markdown",
   "id": "signed-deviation",
   "metadata": {},
   "source": [
    "__We reduce variety of values in Floor Location column__"
   ]
  },
  {
   "cell_type": "code",
   "execution_count": 27,
   "id": "departmental-title",
   "metadata": {},
   "outputs": [],
   "source": [
    "for i in range(21,30):\n",
    "    df.loc[df.Floor_location==str(i),\"Floor_location\"] = \"21-29\""
   ]
  },
  {
   "cell_type": "code",
   "execution_count": 28,
   "id": "quick-penalty",
   "metadata": {},
   "outputs": [],
   "source": [
    "for i in range(16,21):\n",
    "    df.loc[df.Floor_location==str(i),\"Floor_location\"] = \"16-20\""
   ]
  },
  {
   "cell_type": "code",
   "execution_count": 29,
   "id": "julian-halloween",
   "metadata": {},
   "outputs": [],
   "source": [
    "for i in range(11,16):\n",
    "    df.loc[df.Floor_location==str(i),\"Floor_location\"] = \"11-15\""
   ]
  },
  {
   "cell_type": "code",
   "execution_count": 30,
   "id": "damaged-radical",
   "metadata": {},
   "outputs": [],
   "source": [
    "df.loc[df.Floor_location==\"30  and more than\",\"Floor_location\"] = \"30+\""
   ]
  },
  {
   "cell_type": "code",
   "execution_count": 31,
   "id": "sudden-mauritius",
   "metadata": {},
   "outputs": [],
   "source": [
    "for i in range(21,30):\n",
    "    df.loc[df.Number_of_floors==str(i),\"Number_of_floors\"] = \"21-29\""
   ]
  },
  {
   "cell_type": "code",
   "execution_count": 32,
   "id": "piano-envelope",
   "metadata": {},
   "outputs": [],
   "source": [
    "for i in range(16,21):\n",
    "    df.loc[df.Number_of_floors==str(i),\"Number_of_floors\"] = \"16-20\""
   ]
  },
  {
   "cell_type": "code",
   "execution_count": 33,
   "id": "fatty-plaza",
   "metadata": {},
   "outputs": [],
   "source": [
    "for i in range(11,16):\n",
    "    df.loc[df.Number_of_floors==str(i),\"Number_of_floors\"] = \"11-15\""
   ]
  },
  {
   "cell_type": "code",
   "execution_count": 34,
   "id": "exposed-power",
   "metadata": {},
   "outputs": [],
   "source": [
    "df.loc[df.Number_of_floors==\"30  and more than\",\"Number_of_floors\"] = \"30+\""
   ]
  },
  {
   "cell_type": "code",
   "execution_count": 35,
   "id": "later-consultation",
   "metadata": {},
   "outputs": [
    {
     "data": {
      "text/plain": [
       "5        9830\n",
       "4        9114\n",
       "3        3576\n",
       "6        2902\n",
       "11-15    2576\n",
       "7        1266\n",
       "16-20    1013\n",
       "8         993\n",
       "10        956\n",
       "9         849\n",
       "21-29     636\n",
       "30+       539\n",
       "2         459\n",
       "1         134\n",
       "Name: Number_of_floors, dtype: int64"
      ]
     },
     "execution_count": 35,
     "metadata": {},
     "output_type": "execute_result"
    }
   ],
   "source": [
    "df.Number_of_floors.value_counts()"
   ]
  },
  {
   "cell_type": "markdown",
   "id": "solar-wisdom",
   "metadata": {},
   "source": [
    "### __Values in Number of Bathrooms column__"
   ]
  },
  {
   "cell_type": "code",
   "execution_count": 36,
   "id": "selected-sound",
   "metadata": {},
   "outputs": [
    {
     "data": {
      "text/plain": [
       "1                  21308\n",
       "2                  11449\n",
       "3                   1656\n",
       "4                    305\n",
       "Absent                60\n",
       "5                     50\n",
       "6                     10\n",
       "6 and more than        5\n",
       "Name: Number_of_bathrooms, dtype: int64"
      ]
     },
     "execution_count": 36,
     "metadata": {},
     "output_type": "execute_result"
    }
   ],
   "source": [
    "df.Number_of_bathrooms.value_counts()"
   ]
  },
  {
   "cell_type": "code",
   "execution_count": 37,
   "id": "quality-martin",
   "metadata": {},
   "outputs": [],
   "source": [
    "df.loc[df.Number_of_bathrooms==\"6 and more than\",\"Number_of_bathrooms\"] = \"6+\""
   ]
  },
  {
   "cell_type": "code",
   "execution_count": 38,
   "id": "intelligent-audit",
   "metadata": {},
   "outputs": [],
   "source": [
    "df.loc[df.Number_of_bathrooms==\"Absent\",\"Number_of_bathrooms\"] = \"0\""
   ]
  },
  {
   "cell_type": "code",
   "execution_count": 39,
   "id": "sexual-trading",
   "metadata": {},
   "outputs": [
    {
     "data": {
      "text/plain": [
       "1     21308\n",
       "2     11449\n",
       "3      1656\n",
       "4       305\n",
       "0        60\n",
       "5        50\n",
       "6        10\n",
       "6+        5\n",
       "Name: Number_of_bathrooms, dtype: int64"
      ]
     },
     "execution_count": 39,
     "metadata": {},
     "output_type": "execute_result"
    }
   ],
   "source": [
    "df.Number_of_bathrooms.value_counts()"
   ]
  },
  {
   "cell_type": "markdown",
   "id": "american-polish",
   "metadata": {},
   "source": [
    "### __Values in Using Status Column__"
   ]
  },
  {
   "cell_type": "code",
   "execution_count": 42,
   "id": "numerical-northeast",
   "metadata": {},
   "outputs": [
    {
     "data": {
      "text/plain": [
       "Free              19441\n",
       "Property owner     8137\n",
       "Tenant             7265\n",
       "Name: Using_status, dtype: int64"
      ]
     },
     "execution_count": 42,
     "metadata": {},
     "output_type": "execute_result"
    }
   ],
   "source": [
    "df.Using_status.value_counts()"
   ]
  },
  {
   "cell_type": "markdown",
   "id": "latin-utility",
   "metadata": {},
   "source": [
    "### __Values in Available for Loan Column__"
   ]
  },
  {
   "cell_type": "code",
   "execution_count": 75,
   "id": "fewer-queue",
   "metadata": {},
   "outputs": [
    {
     "data": {
      "text/plain": [
       "Yes        30257\n",
       "No          4051\n",
       "Unknown      535\n",
       "Name: Available_for_Loan, dtype: int64"
      ]
     },
     "execution_count": 75,
     "metadata": {},
     "output_type": "execute_result"
    }
   ],
   "source": [
    "df.Available_for_Loan.value_counts()"
   ]
  },
  {
   "cell_type": "code",
   "execution_count": 76,
   "id": "smaller-context",
   "metadata": {},
   "outputs": [],
   "source": [
    "df.loc[df.Available_for_Loan==\"Unknown\",\"Available_for_Loan\"] = \"No\""
   ]
  },
  {
   "cell_type": "markdown",
   "id": "artistic-smoke",
   "metadata": {},
   "source": [
    "### __Values in Heating Column__"
   ]
  },
  {
   "cell_type": "code",
   "execution_count": 77,
   "id": "enclosed-failure",
   "metadata": {},
   "outputs": [
    {
     "data": {
      "text/plain": [
       "Natural Gas (Combi)     26715\n",
       "Center (Share Meter)     5304\n",
       "Central system           1388\n",
       "Underfloor heating        437\n",
       "Naturel gas Stovesı       390\n",
       "Floor Heating             195\n",
       "Absent                    158\n",
       "Stove                     113\n",
       "Climate                    51\n",
       "Fancoil Ünitesi            31\n",
       "VRV                        28\n",
       "Jeotermal                  15\n",
       "Fancoil ünitesi            10\n",
       "Fireplace                   5\n",
       "Solar energy                2\n",
       "Heat pump                   1\n",
       "Name: Heating, dtype: int64"
      ]
     },
     "execution_count": 77,
     "metadata": {},
     "output_type": "execute_result"
    }
   ],
   "source": [
    "df.Heating.value_counts()"
   ]
  },
  {
   "cell_type": "markdown",
   "id": "allied-guinea",
   "metadata": {},
   "source": [
    "__We aggregate the same expression__"
   ]
  },
  {
   "cell_type": "code",
   "execution_count": 78,
   "id": "oriented-eleven",
   "metadata": {},
   "outputs": [],
   "source": [
    "df.loc[df.Heating==\"Fancoil ünitesi\",\"Heating\"] = \"Fancoil Ünitesi\"\n",
    "df.loc[df.Heating==\"Floor Heating\",\"Heating\"] = \"Underfloor heating\""
   ]
  },
  {
   "cell_type": "markdown",
   "id": "related-tunisia",
   "metadata": {},
   "source": [
    "### __Values in Balcony Column__"
   ]
  },
  {
   "cell_type": "code",
   "execution_count": 79,
   "id": "suburban-likelihood",
   "metadata": {},
   "outputs": [
    {
     "data": {
      "text/plain": [
       "Available    27775\n",
       "Absent        7063\n",
       "Unknown          5\n",
       "Name: Balcony, dtype: int64"
      ]
     },
     "execution_count": 79,
     "metadata": {},
     "output_type": "execute_result"
    }
   ],
   "source": [
    "df.Balcony.value_counts()"
   ]
  },
  {
   "cell_type": "code",
   "execution_count": 80,
   "id": "psychological-visiting",
   "metadata": {},
   "outputs": [],
   "source": [
    "df.loc[df.Balcony==\"Unknown\",\"Balcony\"] = \"Absent\""
   ]
  },
  {
   "cell_type": "markdown",
   "id": "convinced-bronze",
   "metadata": {},
   "source": [
    "### __Values in From who Column__"
   ]
  },
  {
   "cell_type": "code",
   "execution_count": 81,
   "id": "varied-antibody",
   "metadata": {},
   "outputs": [
    {
     "data": {
      "text/plain": [
       "From the real estate office      28824\n",
       "From owner                        3241\n",
       "From the construction company     2628\n",
       "From bank                          150\n",
       "Name: From_who, dtype: int64"
      ]
     },
     "execution_count": 81,
     "metadata": {},
     "output_type": "execute_result"
    }
   ],
   "source": [
    "df.From_who.value_counts()"
   ]
  },
  {
   "cell_type": "markdown",
   "id": "eleven-break",
   "metadata": {},
   "source": [
    "### __Values in Swap Column__"
   ]
  },
  {
   "cell_type": "code",
   "execution_count": 44,
   "id": "utility-plaintiff",
   "metadata": {},
   "outputs": [
    {
     "data": {
      "text/plain": [
       "No     28407\n",
       "Yes     6436\n",
       "Name: Swap, dtype: int64"
      ]
     },
     "execution_count": 44,
     "metadata": {},
     "output_type": "execute_result"
    }
   ],
   "source": [
    "df.Swap.value_counts()"
   ]
  },
  {
   "cell_type": "markdown",
   "id": "severe-output",
   "metadata": {},
   "source": [
    "### __Values in Furnished Column__"
   ]
  },
  {
   "cell_type": "code",
   "execution_count": 83,
   "id": "verbal-processor",
   "metadata": {},
   "outputs": [
    {
     "data": {
      "text/plain": [
       "No         32658\n",
       "Yes         1365\n",
       "Unknown      820\n",
       "Name: Furnished, dtype: int64"
      ]
     },
     "execution_count": 83,
     "metadata": {},
     "output_type": "execute_result"
    }
   ],
   "source": [
    "df.Furnished.value_counts()"
   ]
  },
  {
   "cell_type": "markdown",
   "id": "parental-monte",
   "metadata": {},
   "source": [
    "__we change the \"Unknown\" to \"No\"__"
   ]
  },
  {
   "cell_type": "code",
   "execution_count": 84,
   "id": "downtown-differential",
   "metadata": {},
   "outputs": [],
   "source": [
    "df.loc[df.Furnished ==\"Unknown\",\"Furnished\"] = \"No\""
   ]
  },
  {
   "cell_type": "code",
   "execution_count": 85,
   "id": "worst-mining",
   "metadata": {},
   "outputs": [],
   "source": [
    "df.index=np.arange(1,len(df)+1)"
   ]
  },
  {
   "cell_type": "code",
   "execution_count": 86,
   "id": "incident-department",
   "metadata": {},
   "outputs": [],
   "source": [
    "df.to_csv(\"1_cleaned.csv\",index_label=False)"
   ]
  }
 ],
 "metadata": {
  "kernelspec": {
   "display_name": "Python 3",
   "language": "python",
   "name": "python3"
  },
  "language_info": {
   "codemirror_mode": {
    "name": "ipython",
    "version": 3
   },
   "file_extension": ".py",
   "mimetype": "text/x-python",
   "name": "python",
   "nbconvert_exporter": "python",
   "pygments_lexer": "ipython3",
   "version": "3.8.3"
  }
 },
 "nbformat": 4,
 "nbformat_minor": 5
}
